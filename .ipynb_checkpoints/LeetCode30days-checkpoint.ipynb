{
 "cells": [
  {
   "cell_type": "markdown",
   "metadata": {},
   "source": [
    "## 4/6/2020: Group Anagrams\n",
    "Given an array of strings, group anagrams together.\n",
    "Example:\n",
    "\n",
    "Input: [\"eat\", \"tea\", \"tan\", \"ate\", \"nat\", \"bat\"], <br>\n",
    "Output:\n",
    "[\n",
    "  [\"ate\",\"eat\",\"tea\"],\n",
    "  [\"nat\",\"tan\"],\n",
    "  [\"bat\"]\n",
    "]\n",
    "\n",
    "Note:\n",
    "\n",
    "All inputs will be in lowercase.\n",
    "The order of your output does not matter.\n",
    "\n",
    "https://leetcode.com/explore/challenge/card/30-day-leetcoding-challenge/528/week-1/3288/"
   ]
  },
  {
   "cell_type": "code",
   "execution_count": null,
   "metadata": {},
   "outputs": [],
   "source": [
    "# 1st: O[nklogk]\n",
    "def groupAnagrams(self, strs: List[str]) -> List[List[str]]:        \n",
    "    seen = [''.join(sorted(strs[0]))]\n",
    "    solu = [[strs[0]]]\n",
    "    for i in strs[1:]:\n",
    "        isorted = ''.join(sorted(i))\n",
    "        if isorted in seen:\n",
    "            row_idx = seen.index(isorted)\n",
    "            solu[row_idx].append(i)\n",
    "        else:\n",
    "            seen.append(isorted)\n",
    "            solu.append([i])\n",
    "    return solu\n",
    "\n",
    "# 2nd: a slightly more efficient version, but not that much faster. \n",
    "def groupAnagrams(self, strs: List[str]) -> List[List[str]]:\n",
    "    solu = {}\n",
    "    for i in strs:\n",
    "        isorted = ''.join(sorted(i))\n",
    "        if isorted not in solu.keys():\n",
    "            solu[isorted] = [i]\n",
    "        else:\n",
    "            solu[isorted].append(i)\n",
    "    return(solu.values())\n",
    "\n",
    "\n",
    "# Two solutions listed, both uses \"collections.defaultdict\", \n",
    "# which is similar to dict, except that it automatically assumed a new key if it hasn't seen it before\n",
    "\n",
    "# this solution is similar to my solutions\n",
    "# Time: O(NKlog K), where N is the length of strs, and K is the maximum length of a string in strs\n",
    "# Space: O(NK)\n",
    "def groupAnagrams(self, strs):\n",
    "    ans = collections.defaultdict(list)\n",
    "    for s in strs:\n",
    "        ans[tuple(sorted(s))].append(s)\n",
    "    return ans.values()\n",
    "\n",
    "# this solution uses the number of letters present in a word to form a vector. Slightly faster. \n",
    "# Time: O(NK)\n",
    "# Space: O(NK)\n",
    "def groupAnagrams(strs):\n",
    "    ans = collections.defaultdict(list)\n",
    "    for s in strs:\n",
    "        count = [0] * 26\n",
    "        for c in s:\n",
    "            count[ord(c) - ord('a')] += 1\n",
    "        ans[tuple(count)].append(s)\n",
    "    return ans.values()\n"
   ]
  },
  {
   "cell_type": "markdown",
   "metadata": {},
   "source": [
    "## 4/5/2020: Best Time to Buy and Sell Stock II\n",
    "\n",
    "Say you have an array for which the ith element is the price of a given stock on day i.\n",
    "\n",
    "Design an algorithm to find the maximum profit. You may complete as many transactions as you like (i.e., buy one and sell one share of the stock multiple times).\n",
    "\n",
    "Note: You may not engage in multiple transactions at the same time (i.e., you must sell the stock before you buy again).\n",
    "\n",
    "https://leetcode.com/explore/challenge/card/30-day-leetcoding-challenge/528/week-1/3287/"
   ]
  },
  {
   "cell_type": "code",
   "execution_count": null,
   "metadata": {},
   "outputs": [],
   "source": [
    "# O(n)\n",
    "def maxProfit(self, prices: List[int]) -> int: \n",
    "    solu = 0\n",
    "    for n in range(len(prices)-1):\n",
    "        if prices[n+1] > prices[n]:\n",
    "            solu += prices[n+1]-prices[n]\n",
    "    return(solu)       \n"
   ]
  },
  {
   "cell_type": "markdown",
   "metadata": {},
   "source": [
    "#### A similar question: 121. Best Time to Buy and Sell Stock\n",
    "Say you have an array for which the ith element is the price of a given stock on day i.\n",
    "\n",
    "If you were only permitted to complete at most one transaction (i.e., buy one and sell one share of the stock), design an algorithm to find the maximum profit.\n",
    "\n",
    "Note that you cannot sell a stock before you buy one."
   ]
  },
  {
   "cell_type": "code",
   "execution_count": null,
   "metadata": {},
   "outputs": [],
   "source": [
    "#  1st\n",
    "def maxProfit(self, prices: List[int]) -> int:\n",
    "    length = len(prices)\n",
    "    solu= 0\n",
    "    for n in range(length-1):\n",
    "        profit = max(prices[n+1:length]) - prices[n] \n",
    "        if profit >solu:\n",
    "            solu = profit        \n",
    "    return solu\n",
    "\n",
    "# 2nd\n",
    "# think of it as having \"hills\" and \"valleys\" \n",
    "def maxProfit(self, prices: List[int]) -> int:\n",
    "    if not prices:\n",
    "        return 0\n",
    "\n",
    "    current= 0\n",
    "    solu = 0\n",
    "    for n in range(len(prices)-1):\n",
    "        profit = prices[n+1]  -prices[n]\n",
    "        current = max(profit+current, 0)\n",
    "        solu = max(solu, current)\n",
    "    return(solu)\n",
    "\n",
    "# 3rd recursive: divide to two\n",
    "def maxProfit(self, prices):\n",
    "        \"\"\"\n",
    "        :type prices: List[int] >\n",
    "        :rtype: int\n",
    "        \"\"\"   \n",
    "        m = int(len(prices)/2)\n",
    "        while m > 0:\n",
    "            profit = max(0, max(prices[m:]) - min(prices[:m]))\n",
    "            return max(maxProfit(prices[:m]), profit, maxProfit(prices[m:]))\n",
    "        return 0\n",
    "            \n",
    "            "
   ]
  },
  {
   "cell_type": "markdown",
   "metadata": {},
   "source": [
    "## 4/4/2020: Move Zeroes\n",
    "\n",
    "Given an array nums, write a function to move all 0's to the end of it while maintaining the relative order of the non-zero elements.\n",
    "\n",
    "You must do this in-place without making a copy of the array.\n",
    "Minimize the total number of operations.\n",
    "\n",
    "https://leetcode.com/explore/challenge/card/30-day-leetcoding-challenge/528/week-1/3286/"
   ]
  },
  {
   "cell_type": "code",
   "execution_count": null,
   "metadata": {},
   "outputs": [],
   "source": [
    "# 1st\n",
    "def moveZeroes(self, nums: List[int]) -> None:\n",
    "    \"\"\"\n",
    "    Do not return anything, modify nums in-place instead.\n",
    "    \"\"\"\n",
    "    n= 0; ct_zero=len(nums)\n",
    "    while n < ct_zero:\n",
    "        if nums[n] ==0:\n",
    "            nums.pop(n)\n",
    "            nums.append(0)\n",
    "            ct_zero -=1\n",
    "        else:\n",
    "            n +=1              "
   ]
  },
  {
   "cell_type": "markdown",
   "metadata": {},
   "source": [
    "## 4/3/2020:  Maximum Subarray\n",
    "Given an integer array nums, find the contiguous subarray (containing at least one number) which has the largest sum and return its sum.\n",
    "If you have figured out the O(n) solution, try coding another solution using the divide and conquer approach, which is more subtle."
   ]
  },
  {
   "cell_type": "code",
   "execution_count": null,
   "metadata": {},
   "outputs": [],
   "source": [
    "#1st\n",
    "def maxSubArray(self, nums):\n",
    "    \"\"\"\n",
    "    :type nums: List[int]\n",
    "    :rtype: int\n",
    "    \"\"\"\n",
    "    max_value = max(nums)\n",
    "    sums = max_value\n",
    "    for n in range(len(nums)):\n",
    "        tempt_sum =0\n",
    "        for i in nums[n:]:\n",
    "            tempt_sum +=i\n",
    "            if tempt_sum > sums:\n",
    "                sums = tempt_sum\n",
    "    return(sums)\n",
    "        \n",
    "#2nd        \n",
    "def maxSubArray(self, nums): \n",
    "    \"\"\"\n",
    "    :type nums: List[int]\n",
    "    :rtype: int\n",
    "    \"\"\"\n",
    "    # note the way to restart when the sums are small by using max(current_sum, 0)\n",
    "    max_sum = current_sum = nums[0]\n",
    "    for n in nums[1:]:\n",
    "        current_sum = max(current_sum, 0) + n\n",
    "        max_sum = max(max_sum, current_sum)\n",
    "    return max_sum      \n",
    "        \n",
    "    "
   ]
  },
  {
   "cell_type": "markdown",
   "metadata": {},
   "source": [
    "## 4/2/2020: Happy Number\n",
    "\n",
    "Write an algorithm to determine if a number is \"happy\".\n",
    "\n",
    "A happy number is a number defined by the following process: Starting with any positive integer, replace the number by the sum of the squares of its digits, and repeat the process until the number equals 1 (where it will stay), or it loops endlessly in a cycle which does not include 1. Those numbers for which this process ends in 1 are happy numbers.\n",
    "\n",
    "https://leetcode.com/explore/challenge/card/30-day-leetcoding-challenge/528/week-1/3284/"
   ]
  },
  {
   "cell_type": "code",
   "execution_count": null,
   "metadata": {},
   "outputs": [],
   "source": [
    "def recc(n,seen):\n",
    "    nstr = str(n)     \n",
    "    tempt_sum = 0\n",
    "    for i in nstr:\n",
    "        tempt_sum +=int(i)**2    \n",
    "    if tempt_sum!=1 and tempt_sum not in seen:\n",
    "        seen.append(tempt_sum)\n",
    "        tempt_sum,seen= recc(tempt_sum, seen)\n",
    "    return(tempt_sum, seen)\n",
    "\n",
    "class Solution(object):\n",
    "    def isHappy(self, n):\n",
    "        \"\"\"\n",
    "        :type n: int\n",
    "        :rtype: bool\n",
    "        \"\"\"     \n",
    "        seen = [] \n",
    "        tempt_sum, seen = recc(n,seen)\n",
    "        if tempt_sum ==1:\n",
    "            return(True)\n",
    "        else:\n",
    "            return(False)\n",
    "        "
   ]
  },
  {
   "cell_type": "markdown",
   "metadata": {},
   "source": [
    "## 4/1/2020: Single Number\n",
    "\n",
    "Given a non-empty array of integers, every element appears twice except for one. Find that single one.\n",
    "\n",
    "Note:\n",
    "\n",
    "Your algorithm should have a linear runtime complexity. Could you implement it without using extra memory?\n",
    "\n",
    "https://leetcode.com/explore/challenge/card/30-day-leetcoding-challenge/528/week-1/3283/"
   ]
  },
  {
   "cell_type": "code",
   "execution_count": null,
   "metadata": {},
   "outputs": [],
   "source": [
    "class Solution(object):\n",
    "    def singleNumber(self, nums):\n",
    "        \"\"\"\n",
    "        :type nums: List[int]\n",
    "        :rtype: int\n",
    "        \"\"\"\n",
    "        for i in nums:\n",
    "            if nums.count(i) <2:\n",
    "                return(i)"
   ]
  },
  {
   "cell_type": "code",
   "execution_count": null,
   "metadata": {},
   "outputs": [],
   "source": []
  }
 ],
 "metadata": {
  "kernelspec": {
   "display_name": "Python 3",
   "language": "python",
   "name": "python3"
  },
  "language_info": {
   "codemirror_mode": {
    "name": "ipython",
    "version": 3
   },
   "file_extension": ".py",
   "mimetype": "text/x-python",
   "name": "python",
   "nbconvert_exporter": "python",
   "pygments_lexer": "ipython3",
   "version": "3.6.10"
  }
 },
 "nbformat": 4,
 "nbformat_minor": 2
}
